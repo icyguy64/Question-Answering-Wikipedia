{
 "cells": [
  {
   "cell_type": "code",
   "execution_count": 1,
   "metadata": {},
   "outputs": [],
   "source": [
    "question = 'Who is the founder of Amazon?'"
   ]
  },
  {
   "cell_type": "code",
   "execution_count": 2,
   "metadata": {},
   "outputs": [
    {
     "data": {
      "text/plain": [
       "'is founder Amazon'"
      ]
     },
     "execution_count": 2,
     "metadata": {},
     "output_type": "execute_result"
    }
   ],
   "source": [
    "import spacy\n",
    "#!python -m spacy download en_core_web_sm\n",
    "\n",
    "nlp = spacy.load(\"en_core_web_sm\")\n",
    "doc = nlp(question)\n",
    "query = ' '.join(token.text for token in doc if token.pos_ in {'PROPN', 'NUM', 'VERB', 'NOUN', 'ADJ'})\n",
    "query"
   ]
  },
  {
   "cell_type": "code",
   "execution_count": 3,
   "metadata": {},
   "outputs": [],
   "source": [
    "import requests\n",
    "\n",
    "params = {\n",
    "            'action': 'query',\n",
    "            'list': 'search',\n",
    "            'srsearch': query,\n",
    "            'format': 'json'\n",
    "         }\n",
    "res = requests.get('https://en.wikipedia.org/w/api.php', params=params)\n",
    "pages = res.json()"
   ]
  },
  {
   "cell_type": "code",
   "execution_count": 4,
   "metadata": {},
   "outputs": [],
   "source": [
    "import concurrent.futures\n",
    "import wikipedia\n",
    "import re\n",
    "\n",
    "def search_page(page_id):\n",
    "    res = wikipedia.page(pageid=page_id)\n",
    "    return res.content\n",
    "\n",
    "def post_process(doc):\n",
    "        pattern = '|'.join([\n",
    "            '== References ==',\n",
    "            '== Further reading ==',\n",
    "            '== External links',\n",
    "            '== See also ==',\n",
    "            '== Sources ==',\n",
    "            '== Notes ==',\n",
    "            '== Further references ==',\n",
    "            '== Footnotes ==',\n",
    "            '=== Notes ===',\n",
    "            '=== Sources ===',\n",
    "            '=== Citations ===',\n",
    "        ])\n",
    "        p = re.compile(pattern)\n",
    "        indices = [m.start() for m in p.finditer(doc)]\n",
    "        min_idx = min(*indices, len(doc))\n",
    "        return doc[:min_idx]\n",
    "    \n",
    "with concurrent.futures.ThreadPoolExecutor() as executor:\n",
    "    process_list = [executor.submit(search_page, page['pageid']) for page in pages['query']['search']]\n",
    "    docs = [post_process(p.result()) for p in process_list]"
   ]
  },
  {
   "cell_type": "code",
   "execution_count": 5,
   "metadata": {},
   "outputs": [],
   "source": [
    "import itertools\n",
    "from gensim.summarization.bm25 import BM25\n",
    "\n",
    "def preprocess(doc):\n",
    "    passages = [p for p in doc.split('\\n') if p and not p.startswith('=')]\n",
    "    return passages\n",
    "\n",
    "passages = list(itertools.chain(*map(preprocess, docs)))\n",
    "corpus = [[token.lemma_ for token in nlp(p)] for p in passages]\n",
    "bm25 = BM25(corpus)"
   ]
  },
  {
   "cell_type": "code",
   "execution_count": 6,
   "metadata": {},
   "outputs": [],
   "source": [
    "topn=10\n",
    "\n",
    "tokens = [token.lemma_ for token in nlp(question)]\n",
    "scores = bm25.get_scores(tokens)\n",
    "pairs = [(s, i) for i, s in enumerate(scores)]\n",
    "pairs.sort(reverse=True)\n",
    "passages = [passages[i] for _, i in pairs[:topn]]"
   ]
  },
  {
   "cell_type": "code",
   "execution_count": 7,
   "metadata": {},
   "outputs": [],
   "source": [
    "from transformers import AutoTokenizer, AutoModelForQuestionAnswering, QuestionAnsweringPipeline\n",
    "import operator\n",
    "tokenizer = AutoTokenizer.from_pretrained('distilbert-base-cased-distilled-squad')\n",
    "model = AutoModelForQuestionAnswering.from_pretrained('distilbert-base-cased-distilled-squad')\n",
    "qa_pipeline = QuestionAnsweringPipeline(model=model, tokenizer=tokenizer)"
   ]
  },
  {
   "cell_type": "code",
   "execution_count": 8,
   "metadata": {},
   "outputs": [],
   "source": [
    "answers = []\n",
    "for passage in passages:\n",
    "    answer = qa_pipeline(question=question, context=passage)\n",
    "    answer['text'] = passage\n",
    "    answers.append(answer)\n",
    "answers.sort(key=operator.itemgetter('score'), reverse=True)"
   ]
  },
  {
   "cell_type": "code",
   "execution_count": 9,
   "metadata": {},
   "outputs": [
    {
     "name": "stdout",
     "output_type": "stream",
     "text": [
      "{'score': 0.9968113408074686, 'start': 576, 'end': 586, 'answer': 'Jeff Bezos', 'text': \"Amazon Go is a chain of convenience stores in the United States operated by the online retailer Amazon. It has 26 open and announced store locations in Seattle, Chicago, San Francisco and New York City, as of 2020.The stores are partially automated, with customers able to purchase products without being checked out by a cashier or using a self-checkout station. Amazon Go stores were conceptualized and tested by a team of Amazon executives, who constructed a 15,000-square-foot mock supermarket in a rented warehouse in Seattle, before revealing the work to Amazon founder Jeff Bezos in 2015. The first store, located in the company's Day 1 building, opened to employees on December 5, 2016, and to the public on January 22, 2018. The flagship store has prepared foods, meal kits, limited groceries, and liquor available for purchase. A larger variant, Amazon Go Grocery, opened in Seattle's Capitol Hill neighborhood on February 25, 2020. In March 2020, a proprietary Just Walk Out system was adapted to other retailers so that purchases can be made without the involvement of Amazon accounts and proposed for sales as licensed software.\"}\n"
     ]
    }
   ],
   "source": [
    "print(answers[0])"
   ]
  },
  {
   "cell_type": "code",
   "execution_count": 10,
   "metadata": {},
   "outputs": [
    {
     "data": {
      "text/plain": [
       "0.9968113408074686"
      ]
     },
     "execution_count": 10,
     "metadata": {},
     "output_type": "execute_result"
    }
   ],
   "source": [
    "answers[0]['score']"
   ]
  },
  {
   "cell_type": "code",
   "execution_count": 11,
   "metadata": {},
   "outputs": [
    {
     "data": {
      "text/plain": [
       "'Jeff Bezos'"
      ]
     },
     "execution_count": 11,
     "metadata": {},
     "output_type": "execute_result"
    }
   ],
   "source": [
    "answers[0]['answer']"
   ]
  },
  {
   "cell_type": "code",
   "execution_count": 12,
   "metadata": {},
   "outputs": [
    {
     "data": {
      "text/plain": [
       "\"Amazon Go is a chain of convenience stores in the United States operated by the online retailer Amazon. It has 26 open and announced store locations in Seattle, Chicago, San Francisco and New York City, as of 2020.The stores are partially automated, with customers able to purchase products without being checked out by a cashier or using a self-checkout station. Amazon Go stores were conceptualized and tested by a team of Amazon executives, who constructed a 15,000-square-foot mock supermarket in a rented warehouse in Seattle, before revealing the work to Amazon founder Jeff Bezos in 2015. The first store, located in the company's Day 1 building, opened to employees on December 5, 2016, and to the public on January 22, 2018. The flagship store has prepared foods, meal kits, limited groceries, and liquor available for purchase. A larger variant, Amazon Go Grocery, opened in Seattle's Capitol Hill neighborhood on February 25, 2020. In March 2020, a proprietary Just Walk Out system was adapted to other retailers so that purchases can be made without the involvement of Amazon accounts and proposed for sales as licensed software.\""
      ]
     },
     "execution_count": 12,
     "metadata": {},
     "output_type": "execute_result"
    }
   ],
   "source": [
    "answers[0]['text']"
   ]
  },
  {
   "cell_type": "code",
   "execution_count": null,
   "metadata": {},
   "outputs": [],
   "source": []
  }
 ],
 "metadata": {
  "kernelspec": {
   "display_name": "Python 3",
   "language": "python",
   "name": "python3"
  },
  "language_info": {
   "codemirror_mode": {
    "name": "ipython",
    "version": 3
   },
   "file_extension": ".py",
   "mimetype": "text/x-python",
   "name": "python",
   "nbconvert_exporter": "python",
   "pygments_lexer": "ipython3",
   "version": "3.7.6"
  }
 },
 "nbformat": 4,
 "nbformat_minor": 4
}
